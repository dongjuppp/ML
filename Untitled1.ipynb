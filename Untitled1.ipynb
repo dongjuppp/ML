{
  "nbformat": 4,
  "nbformat_minor": 0,
  "metadata": {
    "colab": {
      "name": "Untitled1.ipynb",
      "provenance": [],
      "include_colab_link": true
    },
    "kernelspec": {
      "name": "python3",
      "display_name": "Python 3"
    }
  },
  "cells": [
    {
      "cell_type": "markdown",
      "metadata": {
        "id": "view-in-github",
        "colab_type": "text"
      },
      "source": [
        "<a href=\"https://colab.research.google.com/github/dongjuppp/ML/blob/master/Untitled1.ipynb\" target=\"_parent\"><img src=\"https://colab.research.google.com/assets/colab-badge.svg\" alt=\"Open In Colab\"/></a>"
      ]
    },
    {
      "cell_type": "code",
      "metadata": {
        "id": "4nMPBoK9ctl5",
        "colab_type": "code",
        "colab": {
          "base_uri": "https://localhost:8080/",
          "height": 279
        },
        "outputId": "db48d6b8-e6bc-497f-f1e2-e902d893c48a"
      },
      "source": [
        "import pandas as pd\n",
        "import numpy as np\n",
        "import matplotlib.pyplot as plt\n",
        "\n",
        "\n",
        "df = pd.read_csv('https://archive.ics.uci.edu/ml/machine-learning-databases/iris/iris.data', header=None)\n",
        "\n",
        "# setosa와 versicolor를 선택합니다\n",
        "y = df.iloc[0:100, 4].values\n",
        "y = np.where(y == 'Iris-setosa', -1, 1)\n",
        "\n",
        "# 꽃받침 길이와 꽃잎 길이를 추출합니다\n",
        "X = df.iloc[0:100, [0, 2]].values\n",
        "\n",
        "# 산점도를 그립니다\n",
        "plt.scatter(X[:50, 0], X[:50, 1],\n",
        "            color='red', marker='o', label='setosa')\n",
        "plt.scatter(X[50:100, 0], X[50:100, 1],\n",
        "            color='blue', marker='x', label='versicolor')\n",
        "\n",
        "plt.xlabel('sepal length [cm]')\n",
        "plt.ylabel('petal length [cm]')\n",
        "plt.legend(loc='upper left')\n",
        "plt.show()"
      ],
      "execution_count": 4,
      "outputs": [
        {
          "output_type": "display_data",
          "data": {
            "image/png": "[encoded data removed]",
            "text/plain": [
              "<Figure size 432x288 with 1 Axes>"
            ]
          },
          "metadata": {
            "tags": []
          }
        }
      ]
    }
  ]
}